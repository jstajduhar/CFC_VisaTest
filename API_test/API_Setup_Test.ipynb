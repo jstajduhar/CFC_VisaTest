{
 "cells": [
  {
   "cell_type": "code",
   "execution_count": 2,
   "id": "7256162b-bd82-44ae-bd69-cbf52935d51e",
   "metadata": {},
   "outputs": [
    {
     "name": "stdout",
     "output_type": "stream",
     "text": [
      "Requirement already satisfied: jupyter_kernel_gateway in /opt/tljh/user/lib/python3.7/site-packages (2.5.0)\n",
      "Requirement already satisfied: traitlets>=4.2.0 in /opt/tljh/user/lib/python3.7/site-packages (from jupyter_kernel_gateway) (5.0.5)\n",
      "Requirement already satisfied: tornado>=4.2.0 in /opt/tljh/user/lib/python3.7/site-packages (from jupyter_kernel_gateway) (6.1)\n",
      "Requirement already satisfied: notebook<7.0,>=5.7.6 in /opt/tljh/user/lib/python3.7/site-packages (from jupyter_kernel_gateway) (6.4.0)\n",
      "Requirement already satisfied: jupyter-client>=5.2.0 in /opt/tljh/user/lib/python3.7/site-packages (from jupyter_kernel_gateway) (6.2.0)\n",
      "Requirement already satisfied: jupyter-core>=4.4.0 in /opt/tljh/user/lib/python3.7/site-packages (from jupyter_kernel_gateway) (4.7.1)\n",
      "Requirement already satisfied: requests<3.0,>=2.7 in /opt/tljh/user/lib/python3.7/site-packages (from jupyter_kernel_gateway) (2.25.1)\n",
      "Requirement already satisfied: ipython-genutils in /opt/tljh/user/lib/python3.7/site-packages (from traitlets>=4.2.0->jupyter_kernel_gateway) (0.2.0)\n",
      "Requirement already satisfied: Send2Trash>=1.5.0 in /opt/tljh/user/lib/python3.7/site-packages (from notebook<7.0,>=5.7.6->jupyter_kernel_gateway) (1.5.0)\n",
      "Requirement already satisfied: nbformat in /opt/tljh/user/lib/python3.7/site-packages (from notebook<7.0,>=5.7.6->jupyter_kernel_gateway) (5.1.3)\n",
      "Requirement already satisfied: prometheus-client in /opt/tljh/user/lib/python3.7/site-packages (from notebook<7.0,>=5.7.6->jupyter_kernel_gateway) (0.10.1)\n",
      "Requirement already satisfied: pyzmq>=17 in /opt/tljh/user/lib/python3.7/site-packages (from notebook<7.0,>=5.7.6->jupyter_kernel_gateway) (22.1.0)\n",
      "Requirement already satisfied: jinja2 in /opt/tljh/user/lib/python3.7/site-packages (from notebook<7.0,>=5.7.6->jupyter_kernel_gateway) (3.0.1)\n",
      "Requirement already satisfied: argon2-cffi in /opt/tljh/user/lib/python3.7/site-packages (from notebook<7.0,>=5.7.6->jupyter_kernel_gateway) (20.1.0)\n",
      "Requirement already satisfied: nbconvert in /opt/tljh/user/lib/python3.7/site-packages (from notebook<7.0,>=5.7.6->jupyter_kernel_gateway) (6.0.7)\n",
      "Requirement already satisfied: ipykernel in /opt/tljh/user/lib/python3.7/site-packages (from notebook<7.0,>=5.7.6->jupyter_kernel_gateway) (5.5.5)\n",
      "Requirement already satisfied: terminado>=0.8.3 in /opt/tljh/user/lib/python3.7/site-packages (from notebook<7.0,>=5.7.6->jupyter_kernel_gateway) (0.10.0)\n",
      "Requirement already satisfied: python-dateutil>=2.1 in /opt/tljh/user/lib/python3.7/site-packages (from jupyter-client>=5.2.0->jupyter_kernel_gateway) (2.8.1)\n",
      "Requirement already satisfied: nest-asyncio>=1.5 in /opt/tljh/user/lib/python3.7/site-packages (from jupyter-client>=5.2.0->jupyter_kernel_gateway) (1.5.1)\n",
      "Requirement already satisfied: chardet<5,>=3.0.2 in /opt/tljh/user/lib/python3.7/site-packages (from requests<3.0,>=2.7->jupyter_kernel_gateway) (4.0.0)\n",
      "Requirement already satisfied: certifi>=2017.4.17 in /opt/tljh/user/lib/python3.7/site-packages (from requests<3.0,>=2.7->jupyter_kernel_gateway) (2020.12.5)\n",
      "Requirement already satisfied: urllib3<1.27,>=1.21.1 in /opt/tljh/user/lib/python3.7/site-packages (from requests<3.0,>=2.7->jupyter_kernel_gateway) (1.26.4)\n",
      "Requirement already satisfied: idna<3,>=2.5 in /opt/tljh/user/lib/python3.7/site-packages (from requests<3.0,>=2.7->jupyter_kernel_gateway) (2.10)\n",
      "Requirement already satisfied: jsonschema!=2.5.0,>=2.4 in /opt/tljh/user/lib/python3.7/site-packages (from nbformat->notebook<7.0,>=5.7.6->jupyter_kernel_gateway) (3.2.0)\n",
      "Requirement already satisfied: MarkupSafe>=2.0 in /opt/tljh/user/lib/python3.7/site-packages (from jinja2->notebook<7.0,>=5.7.6->jupyter_kernel_gateway) (2.0.1)\n",
      "Requirement already satisfied: six in /opt/tljh/user/lib/python3.7/site-packages (from argon2-cffi->notebook<7.0,>=5.7.6->jupyter_kernel_gateway) (1.15.0)\n",
      "Requirement already satisfied: cffi>=1.0.0 in /opt/tljh/user/lib/python3.7/site-packages (from argon2-cffi->notebook<7.0,>=5.7.6->jupyter_kernel_gateway) (1.12.3)\n",
      "Requirement already satisfied: entrypoints>=0.2.2 in /opt/tljh/user/lib/python3.7/site-packages (from nbconvert->notebook<7.0,>=5.7.6->jupyter_kernel_gateway) (0.3)\n",
      "Requirement already satisfied: pandocfilters>=1.4.1 in /opt/tljh/user/lib/python3.7/site-packages (from nbconvert->notebook<7.0,>=5.7.6->jupyter_kernel_gateway) (1.4.3)\n",
      "Requirement already satisfied: jupyterlab-pygments in /opt/tljh/user/lib/python3.7/site-packages (from nbconvert->notebook<7.0,>=5.7.6->jupyter_kernel_gateway) (0.1.2)\n",
      "Requirement already satisfied: mistune<2,>=0.8.1 in /opt/tljh/user/lib/python3.7/site-packages (from nbconvert->notebook<7.0,>=5.7.6->jupyter_kernel_gateway) (0.8.4)\n",
      "Requirement already satisfied: defusedxml in /opt/tljh/user/lib/python3.7/site-packages (from nbconvert->notebook<7.0,>=5.7.6->jupyter_kernel_gateway) (0.7.1)\n",
      "Requirement already satisfied: pygments>=2.4.1 in /opt/tljh/user/lib/python3.7/site-packages (from nbconvert->notebook<7.0,>=5.7.6->jupyter_kernel_gateway) (2.9.0)\n",
      "Requirement already satisfied: nbclient<0.6.0,>=0.5.0 in /opt/tljh/user/lib/python3.7/site-packages (from nbconvert->notebook<7.0,>=5.7.6->jupyter_kernel_gateway) (0.5.3)\n",
      "Requirement already satisfied: testpath in /opt/tljh/user/lib/python3.7/site-packages (from nbconvert->notebook<7.0,>=5.7.6->jupyter_kernel_gateway) (0.5.0)\n",
      "Requirement already satisfied: bleach in /opt/tljh/user/lib/python3.7/site-packages (from nbconvert->notebook<7.0,>=5.7.6->jupyter_kernel_gateway) (3.3.0)\n",
      "Requirement already satisfied: ipython>=5.0.0 in /opt/tljh/user/lib/python3.7/site-packages (from ipykernel->notebook<7.0,>=5.7.6->jupyter_kernel_gateway) (7.23.1)\n",
      "Requirement already satisfied: ptyprocess; os_name != \"nt\" in /opt/tljh/user/lib/python3.7/site-packages (from terminado>=0.8.3->notebook<7.0,>=5.7.6->jupyter_kernel_gateway) (0.7.0)\n",
      "Requirement already satisfied: attrs>=17.4.0 in /opt/tljh/user/lib/python3.7/site-packages (from jsonschema!=2.5.0,>=2.4->nbformat->notebook<7.0,>=5.7.6->jupyter_kernel_gateway) (21.2.0)\n",
      "Requirement already satisfied: setuptools in /opt/tljh/user/lib/python3.7/site-packages (from jsonschema!=2.5.0,>=2.4->nbformat->notebook<7.0,>=5.7.6->jupyter_kernel_gateway) (41.0.1)\n",
      "Requirement already satisfied: importlib-metadata; python_version < \"3.8\" in /opt/tljh/user/lib/python3.7/site-packages (from jsonschema!=2.5.0,>=2.4->nbformat->notebook<7.0,>=5.7.6->jupyter_kernel_gateway) (4.0.1)\n",
      "Requirement already satisfied: pyrsistent>=0.14.0 in /opt/tljh/user/lib/python3.7/site-packages (from jsonschema!=2.5.0,>=2.4->nbformat->notebook<7.0,>=5.7.6->jupyter_kernel_gateway) (0.17.3)\n",
      "Requirement already satisfied: pycparser in /opt/tljh/user/lib/python3.7/site-packages (from cffi>=1.0.0->argon2-cffi->notebook<7.0,>=5.7.6->jupyter_kernel_gateway) (2.19)\n",
      "Requirement already satisfied: async-generator in /opt/tljh/user/lib/python3.7/site-packages (from nbclient<0.6.0,>=0.5.0->nbconvert->notebook<7.0,>=5.7.6->jupyter_kernel_gateway) (1.10)\n",
      "Requirement already satisfied: webencodings in /opt/tljh/user/lib/python3.7/site-packages (from bleach->nbconvert->notebook<7.0,>=5.7.6->jupyter_kernel_gateway) (0.5.1)\n",
      "Requirement already satisfied: packaging in /opt/tljh/user/lib/python3.7/site-packages (from bleach->nbconvert->notebook<7.0,>=5.7.6->jupyter_kernel_gateway) (20.9)\n",
      "Requirement already satisfied: decorator in /opt/tljh/user/lib/python3.7/site-packages (from ipython>=5.0.0->ipykernel->notebook<7.0,>=5.7.6->jupyter_kernel_gateway) (4.4.2)\n",
      "Requirement already satisfied: pexpect>4.3; sys_platform != \"win32\" in /opt/tljh/user/lib/python3.7/site-packages (from ipython>=5.0.0->ipykernel->notebook<7.0,>=5.7.6->jupyter_kernel_gateway) (4.8.0)\n",
      "Requirement already satisfied: matplotlib-inline in /opt/tljh/user/lib/python3.7/site-packages (from ipython>=5.0.0->ipykernel->notebook<7.0,>=5.7.6->jupyter_kernel_gateway) (0.1.2)\n",
      "Requirement already satisfied: jedi>=0.16 in /opt/tljh/user/lib/python3.7/site-packages (from ipython>=5.0.0->ipykernel->notebook<7.0,>=5.7.6->jupyter_kernel_gateway) (0.18.0)\n",
      "Requirement already satisfied: backcall in /opt/tljh/user/lib/python3.7/site-packages (from ipython>=5.0.0->ipykernel->notebook<7.0,>=5.7.6->jupyter_kernel_gateway) (0.2.0)\n",
      "Requirement already satisfied: pickleshare in /opt/tljh/user/lib/python3.7/site-packages (from ipython>=5.0.0->ipykernel->notebook<7.0,>=5.7.6->jupyter_kernel_gateway) (0.7.5)\n",
      "Requirement already satisfied: prompt-toolkit!=3.0.0,!=3.0.1,<3.1.0,>=2.0.0 in /opt/tljh/user/lib/python3.7/site-packages (from ipython>=5.0.0->ipykernel->notebook<7.0,>=5.7.6->jupyter_kernel_gateway) (3.0.18)\n",
      "Requirement already satisfied: typing-extensions>=3.6.4; python_version < \"3.8\" in /opt/tljh/user/lib/python3.7/site-packages (from importlib-metadata; python_version < \"3.8\"->jsonschema!=2.5.0,>=2.4->nbformat->notebook<7.0,>=5.7.6->jupyter_kernel_gateway) (3.7.4.3)\n",
      "Requirement already satisfied: zipp>=0.5 in /opt/tljh/user/lib/python3.7/site-packages (from importlib-metadata; python_version < \"3.8\"->jsonschema!=2.5.0,>=2.4->nbformat->notebook<7.0,>=5.7.6->jupyter_kernel_gateway) (3.4.1)\n",
      "Requirement already satisfied: pyparsing>=2.0.2 in /opt/tljh/user/lib/python3.7/site-packages (from packaging->bleach->nbconvert->notebook<7.0,>=5.7.6->jupyter_kernel_gateway) (2.4.7)\n",
      "Requirement already satisfied: parso<0.9.0,>=0.8.0 in /opt/tljh/user/lib/python3.7/site-packages (from jedi>=0.16->ipython>=5.0.0->ipykernel->notebook<7.0,>=5.7.6->jupyter_kernel_gateway) (0.8.2)\n",
      "Requirement already satisfied: wcwidth in /opt/tljh/user/lib/python3.7/site-packages (from prompt-toolkit!=3.0.0,!=3.0.1,<3.1.0,>=2.0.0->ipython>=5.0.0->ipykernel->notebook<7.0,>=5.7.6->jupyter_kernel_gateway) (0.2.5)\n",
      "\n"
     ]
    }
   ],
   "source": [
    "pip install jupyter_kernel_gateway"
   ]
  },
  {
   "cell_type": "code",
   "execution_count": 3,
   "id": "220aa3c8-8433-441d-87f7-4d5c1d61ad5f",
   "metadata": {},
   "outputs": [
    {
     "name": "stdout",
     "output_type": "stream",
     "text": [
      "[KernelGatewayApp] The port 8888 is already in use, trying another port.\n",
      "Writing default config to: /home/jupyter-jstajduhar/.jupyter/jupyter_kernel_gateway_config.py\n",
      "\n"
     ]
    }
   ],
   "source": [
    " jupyter kernelgateway --generate-config"
   ]
  },
  {
   "cell_type": "code",
   "execution_count": null,
   "id": "0d186dd5-1759-4d8d-8926-dc3c8021c06b",
   "metadata": {},
   "outputs": [],
   "source": []
  }
 ],
 "metadata": {
  "kernelspec": {
   "display_name": "Calysto Bash",
   "language": "bash",
   "name": "calysto_bash"
  },
  "language_info": {
   "file_extension": ".sh",
   "help_links": [
    {
     "text": "MetaKernel Magics",
     "url": "https://metakernel.readthedocs.io/en/latest/source/README.html"
    }
   ],
   "mimetype": "text/x-sh",
   "name": "bash",
   "version": "0.2.2"
  }
 },
 "nbformat": 4,
 "nbformat_minor": 5
}
