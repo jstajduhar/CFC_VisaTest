{
 "cells": [
  {
   "cell_type": "code",
   "execution_count": 5,
   "id": "8e9ead0e-783b-4d01-9e5d-4702811b5b0a",
   "metadata": {},
   "outputs": [
    {
     "name": "stderr",
     "output_type": "stream",
     "text": [
      "DEBUG:urllib3.connectionpool:Starting new HTTPS connection (1): sandbox.api.visa.com:443\n",
      "DEBUG:urllib3.connectionpool:https://sandbox.api.visa.com:443 \"GET /vdp/helloworld HTTP/1.1\" 200 58\n"
     ]
    },
    {
     "name": "stdout",
     "output_type": "stream",
     "text": [
      "START Sample Code for Two-Way (Mutual) SSL\n",
      "2021-09-03 18:47:48.333392\n",
      "{'Server': 'nginx', 'Date': 'Fri, 03 Sep 2021 18:47:48 GMT', 'Content-Type': 'application/json', 'Content-Length': '58', 'Connection': 'keep-alive', 'X-SERVED-BY': 'l73c015', 'X-CORRELATION-ID': '1630694868_361_1323511114_l73c015_VDP_WS', 'X-APP-STATUS': '200', 'Cache-Control': 'no-cache, no-store, must-revalidate', 'X-Frame-Options': 'SAMEORIGIN', 'X-XSS-Protection': '1; mode=block, 1; mode=block', 'X-Content-Type-Options': 'nosniff, nosniff', 'Strict-Transport-Security': 'max-age=2592000;includeSubdomains, max-age=31536000;includeSubdomains;always', 'Pragma': 'no-cache', 'Expires': '-1'}\n",
      "b'{\"timestamp\":\"2021-09-03T18:47:48\",\"message\":\"helloworld\"}'\n",
      "END Sample Code for Two-Way (Mutual) SSL\n",
      "\n",
      "\n"
     ]
    }
   ],
   "source": [
    "%run -i 'helloworld.py'"
   ]
  },
  {
   "cell_type": "code",
   "execution_count": null,
   "id": "5c21e866-a2a8-4b81-9ef2-65b8386a994f",
   "metadata": {},
   "outputs": [],
   "source": []
  }
 ],
 "metadata": {
  "kernelspec": {
   "display_name": "Python 3",
   "language": "python",
   "name": "python3"
  },
  "language_info": {
   "codemirror_mode": {
    "name": "ipython",
    "version": 3
   },
   "file_extension": ".py",
   "mimetype": "text/x-python",
   "name": "python",
   "nbconvert_exporter": "python",
   "pygments_lexer": "ipython3",
   "version": "3.7.10"
  }
 },
 "nbformat": 4,
 "nbformat_minor": 5
}
