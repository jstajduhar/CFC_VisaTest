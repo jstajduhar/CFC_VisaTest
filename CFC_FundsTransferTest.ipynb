{
 "cells": [
  {
   "cell_type": "code",
   "execution_count": 1,
   "id": "db240a5c-a40f-410f-adcb-cf3180f77b6b",
   "metadata": {},
   "outputs": [
    {
     "name": "stdout",
     "output_type": "stream",
     "text": [
      "Collecting certifi==2019.9.11 (from -r requirements.txt (line 1))\n",
      "  Using cached https://files.pythonhosted.org/packages/18/b0/8146a4f8dd402f60744fa380bc73ca47303cccf8b9190fd16a827281eac2/certifi-2019.9.11-py2.py3-none-any.whl\n",
      "Collecting cffi==1.13.0 (from -r requirements.txt (line 2))\n",
      "  Using cached https://files.pythonhosted.org/packages/fa/20/b93b26ad86f48403144823f521aa571a71e61575863a260cca2918ec3881/cffi-1.13.0-cp37-cp37m-manylinux1_x86_64.whl\n",
      "Collecting chardet==3.0.4 (from -r requirements.txt (line 3))\n",
      "  Using cached https://files.pythonhosted.org/packages/bc/a9/01ffebfb562e4274b6487b4bb1ddec7ca55ec7510b22e4c51f14098443b8/chardet-3.0.4-py2.py3-none-any.whl\n",
      "Collecting Click==7.0 (from -r requirements.txt (line 4))\n",
      "  Using cached https://files.pythonhosted.org/packages/fa/37/45185cb5abbc30d7257104c434fe0b07e5a195a6847506c074527aa599ec/Click-7.0-py2.py3-none-any.whl\n",
      "Collecting cryptography==2.8 (from -r requirements.txt (line 5))\n",
      "  Using cached https://files.pythonhosted.org/packages/ca/9a/7cece52c46546e214e10811b36b2da52ce1ea7fa203203a629b8dfadad53/cryptography-2.8-cp34-abi3-manylinux2010_x86_64.whl\n",
      "Collecting enum34==1.1.6 (from -r requirements.txt (line 6))\n",
      "  Using cached https://files.pythonhosted.org/packages/af/42/cb9355df32c69b553e72a2e28daee25d1611d2c0d9c272aa1d34204205b2/enum34-1.1.6-py3-none-any.whl\n",
      "Collecting Flask==1.1.1 (from -r requirements.txt (line 7))\n",
      "  Using cached https://files.pythonhosted.org/packages/9b/93/628509b8d5dc749656a9641f4caf13540e2cdec85276964ff8f43bbb1d3b/Flask-1.1.1-py2.py3-none-any.whl\n",
      "Collecting idna==2.8 (from -r requirements.txt (line 8))\n",
      "  Using cached https://files.pythonhosted.org/packages/14/2c/cd551d81dbe15200be1cf41cd03869a46fe7226e7450af7a6545bfc474c9/idna-2.8-py2.py3-none-any.whl\n",
      "Collecting ipaddress==1.0.23 (from -r requirements.txt (line 9))\n",
      "  Using cached https://files.pythonhosted.org/packages/c2/f8/49697181b1651d8347d24c095ce46c7346c37335ddc7d255833e7cde674d/ipaddress-1.0.23-py2.py3-none-any.whl\n",
      "Collecting itsdangerous==1.1.0 (from -r requirements.txt (line 10))\n",
      "  Using cached https://files.pythonhosted.org/packages/76/ae/44b03b253d6fade317f32c24d100b3b35c2239807046a4c953c7b89fa49e/itsdangerous-1.1.0-py2.py3-none-any.whl\n",
      "Collecting Jinja2==2.10.3 (from -r requirements.txt (line 11))\n",
      "  Using cached https://files.pythonhosted.org/packages/65/e0/eb35e762802015cab1ccee04e8a277b03f1d8e53da3ec3106882ec42558b/Jinja2-2.10.3-py2.py3-none-any.whl\n",
      "Collecting jwcrypto==0.6.0 (from -r requirements.txt (line 12))\n",
      "  Using cached https://files.pythonhosted.org/packages/f0/0d/00173a6aee1025e529b21c365182c8d06e78b1beb98d5633f841da6f122e/jwcrypto-0.6.0-py2.py3-none-any.whl\n",
      "Collecting MarkupSafe==1.1.1 (from -r requirements.txt (line 13))\n",
      "  Using cached https://files.pythonhosted.org/packages/c2/37/2e4def8ce3739a258998215df907f5815ecd1af71e62147f5eea2d12d4e8/MarkupSafe-1.1.1-cp37-cp37m-manylinux2010_x86_64.whl\n",
      "Requirement already satisfied: nose==1.3.7 in /home/jupyter-jstajduhar/.local/lib/python3.7/site-packages (from -r requirements.txt (line 14)) (1.3.7)\n",
      "Requirement already satisfied: pycparser==2.19 in /opt/tljh/user/lib/python3.7/site-packages (from -r requirements.txt (line 15)) (2.19)\n",
      "Collecting pytz==2019.3 (from -r requirements.txt (line 16))\n",
      "  Using cached https://files.pythonhosted.org/packages/e7/f9/f0b53f88060247251bf481fa6ea62cd0d25bf1b11a87888e53ce5b7c8ad2/pytz-2019.3-py2.py3-none-any.whl\n",
      "Collecting requests==2.22.0 (from -r requirements.txt (line 17))\n",
      "  Using cached https://files.pythonhosted.org/packages/51/bd/23c926cd341ea6b7dd0b2a00aba99ae0f828be89d72b2190f27c11d4b7fb/requests-2.22.0-py2.py3-none-any.whl\n",
      "Collecting six==1.12.0 (from -r requirements.txt (line 18))\n",
      "  Using cached https://files.pythonhosted.org/packages/73/fb/00a976f728d0d1fecfe898238ce23f502a721c0ac0ecfedb80e0d88c64e9/six-1.12.0-py2.py3-none-any.whl\n",
      "Collecting urllib3==1.25.6 (from -r requirements.txt (line 19))\n",
      "  Using cached https://files.pythonhosted.org/packages/e0/da/55f51ea951e1b7c63a579c09dd7db825bb730ec1fe9c0180fc77bfb31448/urllib3-1.25.6-py2.py3-none-any.whl\n",
      "Collecting Werkzeug==0.16.0 (from -r requirements.txt (line 20))\n",
      "  Using cached https://files.pythonhosted.org/packages/ce/42/3aeda98f96e85fd26180534d36570e4d18108d62ae36f87694b476b83d6f/Werkzeug-0.16.0-py2.py3-none-any.whl\n",
      "\u001b[31mERROR: jupyterlab-sos 0.8.1 requires transient-display-data>=0.4.0, which is not installed.\u001b[0m\n",
      "\u001b[31mERROR: conda 4.10.1 requires ruamel_yaml_conda>=0.11.14, which is not installed.\u001b[0m\n",
      "\u001b[31mERROR: sweetviz 2.1.0 has requirement jinja2>=2.11.1, but you'll have jinja2 2.10.3 which is incompatible.\u001b[0m\n",
      "\u001b[31mERROR: pandas-profiling 3.0.0 has requirement jinja2>=2.11.1, but you'll have jinja2 2.10.3 which is incompatible.\u001b[0m\n",
      "\u001b[31mERROR: pandas-profiling 3.0.0 has requirement requests>=2.24.0, but you'll have requests 2.22.0 which is incompatible.\u001b[0m\n",
      "\u001b[31mERROR: oci 2.38.4 has requirement cryptography==3.3.2, but you'll have cryptography 2.8 which is incompatible.\u001b[0m\n",
      "\u001b[31mERROR: jupyterhub 1.4.0 has requirement jinja2>=2.11.0, but you'll have jinja2 2.10.3 which is incompatible.\u001b[0m\n",
      "\u001b[31mERROR: botocore 1.12.67 has requirement urllib3<1.25,>=1.20, but you'll have urllib3 1.25.6 which is incompatible.\u001b[0m\n",
      "\u001b[31mERROR: black 21.5b1 has requirement click>=7.1.2, but you'll have click 7.0 which is incompatible.\u001b[0m\n",
      "\u001b[31mERROR: aiobotocore 1.2.2 has requirement botocore<1.19.53,>=1.19.52, but you'll have botocore 1.12.67 which is incompatible.\u001b[0m\n",
      "Installing collected packages: certifi, cffi, chardet, Click, six, cryptography, enum34, itsdangerous, MarkupSafe, Jinja2, Werkzeug, Flask, idna, ipaddress, jwcrypto, pytz, urllib3, requests\n",
      "  Found existing installation: certifi 2020.12.5\n",
      "    Uninstalling certifi-2020.12.5:\n",
      "\u001b[31mERROR: Could not install packages due to an EnvironmentError: [Errno 13] Permission denied: 'INSTALLER'\n",
      "Consider using the `--user` option or check the permissions.\n",
      "\u001b[0m\n",
      "Note: you may need to restart the kernel to use updated packages.\n"
     ]
    }
   ],
   "source": [
    "pip install -r requirements.txt"
   ]
  },
  {
   "cell_type": "code",
   "execution_count": 2,
   "id": "a5bc0d4d-4ad6-4ec1-af95-8ced6fc0abb7",
   "metadata": {},
   "outputs": [
    {
     "name": "stdout",
     "output_type": "stream",
     "text": [
      "Requirement already satisfied: setuptools in /opt/tljh/user/lib/python3.7/site-packages (41.0.1)\n",
      "Note: you may need to restart the kernel to use updated packages.\n"
     ]
    }
   ],
   "source": [
    "pip install setuptools"
   ]
  },
  {
   "cell_type": "code",
   "execution_count": 3,
   "id": "ccddb2ab-b22d-4eda-94c2-c2ad3d8ed6de",
   "metadata": {},
   "outputs": [
    {
     "name": "stdout",
     "output_type": "stream",
     "text": [
      "Requirement already satisfied: nose in /home/jupyter-jstajduhar/.local/lib/python3.7/site-packages (1.3.7)\n",
      "Note: you may need to restart the kernel to use updated packages.\n"
     ]
    }
   ],
   "source": [
    "pip install nose --user"
   ]
  },
  {
   "cell_type": "code",
   "execution_count": 4,
   "id": "30541bc1-73b2-421c-88ba-178403e2480e",
   "metadata": {},
   "outputs": [
    {
     "ename": "NameError",
     "evalue": "name 'nosetests' is not defined",
     "output_type": "error",
     "traceback": [
      "\u001b[0;31m---------------------------------------------------------------------------\u001b[0m",
      "\u001b[0;31mNameError\u001b[0m                                 Traceback (most recent call last)",
      "\u001b[0;32m<ipython-input-4-6b581bb35379>\u001b[0m in \u001b[0;36m<module>\u001b[0;34m\u001b[0m\n\u001b[0;32m----> 1\u001b[0;31m \u001b[0mnosetests\u001b[0m \u001b[0;34m-\u001b[0m\u001b[0;34m-\u001b[0m\u001b[0mnocapture\u001b[0m\u001b[0;34m\u001b[0m\u001b[0;34m\u001b[0m\u001b[0m\n\u001b[0m",
      "\u001b[0;31mNameError\u001b[0m: name 'nosetests' is not defined"
     ]
    }
   ],
   "source": [
    "nosetests --nocapture"
   ]
  },
  {
   "cell_type": "code",
   "execution_count": 8,
   "id": "c8fe6981-73a5-4b00-8723-fd46422d5459",
   "metadata": {},
   "outputs": [
    {
     "name": "stdout",
     "output_type": "stream",
     "text": [
      "Collecting jwcrypto\n",
      "  Using cached https://files.pythonhosted.org/packages/a1/3e/ce28e5f4024f6c497f9ddf29a3052eb160b2ea17309ddca4a2c6ca1fdee6/jwcrypto-1.0-py2.py3-none-any.whl\n",
      "Collecting deprecated (from jwcrypto)\n",
      "  Using cached https://files.pythonhosted.org/packages/51/6a/c3a0408646408f7283b7bc550c30a32cc791181ec4618592eec13e066ce3/Deprecated-1.2.13-py2.py3-none-any.whl\n",
      "Requirement already satisfied: cryptography>=2.3 in /opt/tljh/user/lib/python3.7/site-packages (from jwcrypto) (3.3.2)\n",
      "Requirement already satisfied: wrapt<2,>=1.10 in /opt/tljh/user/lib/python3.7/site-packages (from deprecated->jwcrypto) (1.12.1)\n",
      "Requirement already satisfied: six>=1.4.1 in /opt/tljh/user/lib/python3.7/site-packages (from cryptography>=2.3->jwcrypto) (1.15.0)\n",
      "Requirement already satisfied: cffi>=1.12 in /opt/tljh/user/lib/python3.7/site-packages (from cryptography>=2.3->jwcrypto) (1.12.3)\n",
      "Requirement already satisfied: pycparser in /opt/tljh/user/lib/python3.7/site-packages (from cffi>=1.12->cryptography>=2.3->jwcrypto) (2.19)\n",
      "Installing collected packages: deprecated, jwcrypto\n",
      "Successfully installed deprecated-1.2.13 jwcrypto-1.0\n",
      "Note: you may need to restart the kernel to use updated packages.\n"
     ]
    }
   ],
   "source": [
    "pip install jwcrypto --user"
   ]
  },
  {
   "cell_type": "code",
   "execution_count": 1,
   "id": "2636cadf-4fd8-4a13-b887-7ed255e2933f",
   "metadata": {},
   "outputs": [],
   "source": [
    "from CFC_Test import TestFundsTransfer"
   ]
  },
  {
   "cell_type": "code",
   "execution_count": 2,
   "id": "5900a834-f8ed-48c3-9ad0-6987cb983dd6",
   "metadata": {},
   "outputs": [],
   "source": [
    "TestFundsTransfer.setUp(TestFundsTransfer)"
   ]
  },
  {
   "cell_type": "code",
   "execution_count": 4,
   "id": "0be7195c-0501-4c36-8728-ba4ce94c8f3e",
   "metadata": {},
   "outputs": [
    {
     "name": "stdout",
     "output_type": "stream",
     "text": [
      "b'{\"transactionIdentifier\":673885844484845,\"actionCode\":\"00\",\"approvalCode\":\"98765X\",\"responseCode\":\"5\",\"transmissionDateTime\":\"2021-09-10T16:04:28.000Z\",\"cavvResultCode\":\"8\",\"cpsAuthorizationCharacteristicsIndicator\":\"3333\"}'\n",
      "b'{\"transactionIdentifier\":673885844484845,\"actionCode\":\"00\",\"approvalCode\":\"98765X\",\"responseCode\":\"5\",\"transmissionDateTime\":\"2021-09-10T16:04:28.000Z\",\"cavvResultCode\":\"8\",\"cpsAuthorizationCharacteristicsIndicator\":\"3333\"}'\n"
     ]
    }
   ],
   "source": [
    "TestFundsTransfer.test_pull_funds_transactions(TestFundsTransfer)"
   ]
  },
  {
   "cell_type": "code",
   "execution_count": 4,
   "id": "72204760-1053-48bc-8423-f7914b6faa11",
   "metadata": {},
   "outputs": [
    {
     "name": "stdout",
     "output_type": "stream",
     "text": [
      "b'{\"transactionIdentifier\":381228649430015,\"actionCode\":\"00\",\"approvalCode\":\"21324K\",\"responseCode\":\"5\",\"transmissionDateTime\":\"2021-09-10T17:08:10.000Z\"}'\n",
      "b'{\"transactionIdentifier\":381228649430015,\"actionCode\":\"00\",\"approvalCode\":\"21324K\",\"responseCode\":\"5\",\"transmissionDateTime\":\"2021-09-10T17:08:10.000Z\"}'\n"
     ]
    }
   ],
   "source": [
    "TestFundsTransfer.test_push_funds_transactions(TestFundsTransfer)"
   ]
  },
  {
   "cell_type": "code",
   "execution_count": 3,
   "id": "e2ace158-bc7b-4174-b263-5b3e9475bbc1",
   "metadata": {},
   "outputs": [
    {
     "name": "stdout",
     "output_type": "stream",
     "text": [
      "b'3e8d397d-dfab-446c-a721-bc6697da56ea_1'\n",
      "Unable to serialize the object\n",
      "b'3e8d397d-dfab-446c-a721-bc6697da56ea_1'\n",
      "b'{\"responseStatus\":{\"status\":401,\"code\":\"9209\",\"severity\":\"ERROR\",\"message\":\"Token validation failed\",\"info\":\"\"}}'\n",
      "b'{\"responseStatus\":{\"status\":401,\"code\":\"9209\",\"severity\":\"ERROR\",\"message\":\"Token validation failed\",\"info\":\"\"}}'\n"
     ]
    }
   ],
   "source": [
    "TestFundsTransfer.test_pull_fund_transaction_get(TestFundsTransfer)"
   ]
  },
  {
   "cell_type": "code",
   "execution_count": 3,
   "id": "cc9458dc-f02f-423b-a554-bb92797ea68f",
   "metadata": {},
   "outputs": [
    {
     "name": "stdout",
     "output_type": "stream",
     "text": [
      "b'2308baee-ec12-474e-8176-10a02c5dd636_1'\n",
      "Unable to serialize the object\n",
      "b'2308baee-ec12-474e-8176-10a02c5dd636_1'\n",
      "b'{\"transactionIdentifier\":381228649430015,\"actionCode\":\"00\",\"approvalCode\":\"21324K\",\"responseCode\":\"5\",\"transmissionDateTime\":\"2021-09-10T17:15:08.000Z\"}'\n",
      "b'{\"transactionIdentifier\":381228649430015,\"actionCode\":\"00\",\"approvalCode\":\"21324K\",\"responseCode\":\"5\",\"transmissionDateTime\":\"2021-09-10T17:15:08.000Z\"}'\n"
     ]
    }
   ],
   "source": [
    "TestFundsTransfer.test_push_fund_transaction_get(TestFundsTransfer)"
   ]
  },
  {
   "cell_type": "code",
   "execution_count": null,
   "id": "a219aae7-7553-4df9-8e09-6a5315add5c7",
   "metadata": {},
   "outputs": [],
   "source": []
  },
  {
   "cell_type": "code",
   "execution_count": null,
   "id": "f59ffd6f-a753-4d20-bbe5-3b2943da3a87",
   "metadata": {},
   "outputs": [],
   "source": []
  },
  {
   "cell_type": "code",
   "execution_count": null,
   "id": "36ce0a31-7329-4393-b1b0-c7bb5393d19d",
   "metadata": {},
   "outputs": [],
   "source": []
  }
 ],
 "metadata": {
  "kernelspec": {
   "display_name": "Python 3",
   "language": "python",
   "name": "python3"
  },
  "language_info": {
   "codemirror_mode": {
    "name": "ipython",
    "version": 3
   },
   "file_extension": ".py",
   "mimetype": "text/x-python",
   "name": "python",
   "nbconvert_exporter": "python",
   "pygments_lexer": "ipython3",
   "version": "3.7.10"
  }
 },
 "nbformat": 4,
 "nbformat_minor": 5
}
